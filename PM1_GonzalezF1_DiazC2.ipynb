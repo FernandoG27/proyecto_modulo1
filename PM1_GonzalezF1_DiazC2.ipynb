{
 "cells": [
  {
   "cell_type": "markdown",
   "metadata": {},
   "source": [
    "# Ajuste de curvas de la función de probabilidad de un electrón en potencial de oscilador armónico"
   ]
  },
  {
   "cell_type": "markdown",
   "metadata": {},
   "source": [
    "## 1.2 Objetivos.\n",
    "\n",
    "### 1.2.1 Objetivo General.\n",
    "* Encontrar el ajuste de curvas adecuado para los resultados experimentales de la función de probabilidad de un electrón en potencial de oscilador armónico.\n",
    "\n",
    "### 1.2.2 Objetivos específicos.\n",
    "* Utilizar el material visto en clase acerca del ajuste de curvas, específicamente el método de mínimos cuadrados.\n",
    "* Utilizar la libreria SciPy, módulo optimize para obtener el ajuste más aproximado a los datos proporcionados de mediciones experimentales y poder concluir al respecto.\n",
    "* Poder predecir una próxima medición y el error de esta."
   ]
  },
  {
   "cell_type": "markdown",
   "metadata": {},
   "source": [
    "## 1.3 Modelo que representa el problema.\n",
    "\n",
    "___\n",
    ">Ecuación de Schrödinger:\n",
    ">\n",
    "$$i\\hbar \\frac{\\partial\\mathbf{\\Psi}}{\\partial t}=-\\frac {\\hbar^2}{2m}\\frac{\\partial^2\\mathbf{\\Psi}}{\\partial x^2}+V\\Psi $$\n",
    ">\n",
    ">Utilizando el método de separación de variables se obtiene:\n",
    "$$\\Psi (x,\\varphi )=\\psi (x)\\varphi (t)$$\n",
    ">\n",
    "$$i\\hbar\\psi \\frac { d\\varphi  }{ dt } = -\\frac {\\hbar^2}{ 2m } \\frac { { d }^{ 2 }\\psi  }{ d{ x }^{ 2 } }\\varphi+ V\\varphi\\psi$$\n",
    ">\n",
    ">Dividiendo todo entre $\\psi\\varphi$ quedará:\n",
    ">\n",
    "$$i\\hbar\\frac{1}{\\varphi} \\frac { d\\varphi  }{ dt } = -\\frac {\\hbar^2}{ 2m } \\frac{1}{\\psi} \\frac { { d }^{ 2 }\\psi  }{ d{ x }^{ 2 } }+ V$$\n",
    ">\n",
    "> Cara lado queda solo como una función de t y x respectivamente por lo que solucionando para cada lado quedará:\n",
    ">\n",
    "$$i\\hbar\\frac{1}{\\varphi} \\frac { d\\varphi  }{ dt } =E  $$\n",
    "$$-\\frac {\\hbar^2}{ 2m } \\frac { { d }^{ 2 }\\psi  }{ d{ x }^{ 2 } } +V\\psi =E\\psi$$\n",
    ">\n",
    "> Resolviendo la ecuación para $\\varphi(t) $:\n",
    "$$\\varphi (t)={ e }^{ -\\frac { iEt }{ \\hbar } }$$\n",
    ">\n",
    "> Por lo que se puede escribir de esta manera los conocidos como *estados estacionarios*:\n",
    "$$\\Psi(x,t)=\\psi(x){ e }^{ -\\frac { iEt }{ \\hbar } }$$\n",
    "\n",
    "> La función de onda ya será una combinación lineal de los estados de energía permitidos por el sistema:\n",
    "$$\\Psi (x,t)=\\sum _{ n=1 }^{ \\infty  }{ { c }_{ n }{ \\psi  }_{ n }{ e }^{ -\\frac { { itE }_{ n } }{ \\hbar  }  } }$$\n",
    ">\n",
    "> Para conocer la densidad de probabilidad de una función de onda se le debe sacar el módulo así la anterior expresión quedará:\n",
    "$$|\\Psi(x,t)|^2=\\Psi^*\\Psi=\\psi^*{ e }^{ +\\frac { iEt }{ \\hbar } }\\psi{ e }^{ -\\frac { iEt }{ \\hbar } }=|\\psi(x)|^2$$\n",
    "> **Ya no dependerá de t.**\n",
    ">\n",
    ">Para un oscilador armónico se parte de la **Ley de Hooke**.\n",
    "\n",
    ">Modelo de la ecuación de Schrödinger con un potencial de oscilador armónico:\n",
    ">\n",
    "$$-\\frac {\\hbar^2}{ 2m } \\frac { { d }^{ 2 }\\psi  }{ d{ x }^{ 2 } } +\\frac { 1 }{ 2 } m{ \\omega  }^{ 2 }{ x }^{ 2 }\\psi =E\\psi$$\n",
    "\n",
    "\n",
    "___\n",
    "\n",
    "> - Se debe incluir la función a optimizar y las restricciones (en caso de que existan).\n",
    "> - Deducción del modelo. Explicación detallada de las ecuaciones de acuerdo al problema que se quiera resolver o modelo que se quiera representar.\n",
    "> - ¿Qué situación representa el modelo? ¿Cuáles son las limitaciones fundamentales?\n",
    "> - Significado y valor de los parámetros (constantes que aparezcan en el modelo)."
   ]
  },
  {
   "cell_type": "markdown",
   "metadata": {},
   "source": []
  },
  {
   "cell_type": "markdown",
   "metadata": {},
   "source": []
  },
  {
   "cell_type": "markdown",
   "metadata": {},
   "source": [
    "\n",
    "\n",
    "\n",
    "## 1.4 Solución del problema de optimización.\n",
    "> - Se debe resolver el problema de optimización.\n",
    "> - ¿Condujo el algoritmo de optimización a una solución factible?\n",
    "\n",
    "### 1.5 Visualización de la solución dle problema.\n",
    "> Se deben mostrar gráficas y/o tablas que ilustren de forma adecuada los resultados. No olviden etiquetar los ejes y si se tienen varias curvas en una sola gráfica también etiquetarlas (ojo: que las curvas se puedan diferenciar con colores y estilos de línea).\n",
    "\n",
    "### 1.6 Conclusiones.\n",
    "> Mucho cuidado, las conclusiones no son cualquier cosa. Se debe concluir respecto a los objetivos planteados de acuerdo a los resultados obtenidos.\n",
    "\n",
    "### 1.7 Referencias.\n",
    "> Citar (en formato APA) la bibliografía utilizada."
   ]
  }
 ],
 "metadata": {
  "kernelspec": {
   "display_name": "Python 3",
   "language": "python",
   "name": "python3"
  },
  "language_info": {
   "codemirror_mode": {
    "name": "ipython",
    "version": 3
   },
   "file_extension": ".py",
   "mimetype": "text/x-python",
   "name": "python",
   "nbconvert_exporter": "python",
   "pygments_lexer": "ipython3",
   "version": "3.7.3"
  }
 },
 "nbformat": 4,
 "nbformat_minor": 2
}
